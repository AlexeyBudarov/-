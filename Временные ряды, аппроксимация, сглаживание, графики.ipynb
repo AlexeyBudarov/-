{
 "cells": [
  {
   "cell_type": "code",
   "execution_count": 2,
   "id": "711d4b18-7a7c-458a-b524-1063828db319",
   "metadata": {},
   "outputs": [],
   "source": [
    "import numpy as np\n",
    "import pandas as pd\n",
    "import matplotlib.pyplot as plt\n",
    "import scipy.stats as stats"
   ]
  },
  {
   "cell_type": "code",
   "execution_count": 26,
   "id": "cc3e660d-8e90-4290-8589-b212c5b21b24",
   "metadata": {},
   "outputs": [],
   "source": [
    "Y1 = np.array([106000, 107500, 75500, 88000, 83000, 52980])\n",
    "Y1_mean = round(Y1.mean(),2)\n",
    "Y2 = np.array([146500, 128500, 179000, 219770, 139000, 131000, 197500, 116000])\n",
    "Y2_mean = round(Y2.mean(),2)\n",
    "Y3 = np.array([166500, 275000, 164500, 333000, 330000, 302120, 229000, 201800])\n",
    "Y3_mean = round(Y3.mean(),2)\n",
    "X1 = np.array([843, 907, 824, 672, 698, 723])\n",
    "X1_mean = round(X1.mean(),2)\n",
    "X2 = np.array([1317, 1080, 1688, 1738, 1040, 1404, 1558, 976])\n",
    "X2_mean = round(X2.mean(),2)\n",
    "X3 = np.array([1318, 1507, 1292, 2350, 1732, 2010, 1749, 1762])\n",
    "X3_mean = round(X3.mean(),2)\n",
    "\n",
    "df_1 = pd.DataFrame({'price': Y1, 'area': X1})\n",
    "\n",
    "df_2 = pd.DataFrame({'price': Y2, 'area': X2})\n",
    "df_3 = pd.DataFrame({'price': Y3, 'area': X3})\n",
    "\n",
    "df_set = (df_1, df_2, df_3)"
   ]
  },
  {
   "cell_type": "markdown",
   "id": "748c111e-0455-4422-9fbd-52c1a7602ea0",
   "metadata": {},
   "source": [
    "## Задание 1"
   ]
  },
  {
   "cell_type": "code",
   "execution_count": 56,
   "id": "c223fed5-8ab8-44b8-9dca-a8d1a053e2a2",
   "metadata": {},
   "outputs": [],
   "source": [
    "E_xy = np.sum([np.sum((df.price - df.price.mean())*(df.area - df.area.mean())) for df in df_set])\n",
    "E_yy = np.sum([np.sum((df.price - df.price.mean())) for df in df_set])\n",
    "E_xx = np.sum([np.sum((df.area - df.area.mean())) for df in df_set])"
   ]
  },
  {
   "cell_type": "code",
   "execution_count": null,
   "id": "ae536b1c-a2c1-464d-aa0b-59cf95bb7697",
   "metadata": {},
   "outputs": [],
   "source": []
  }
 ],
 "metadata": {
  "kernelspec": {
   "display_name": "Python 3 (ipykernel)",
   "language": "python",
   "name": "python3"
  },
  "language_info": {
   "codemirror_mode": {
    "name": "ipython",
    "version": 3
   },
   "file_extension": ".py",
   "mimetype": "text/x-python",
   "name": "python",
   "nbconvert_exporter": "python",
   "pygments_lexer": "ipython3",
   "version": "3.12.2"
  }
 },
 "nbformat": 4,
 "nbformat_minor": 5
}
