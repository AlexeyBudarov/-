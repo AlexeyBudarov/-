{
 "cells": [
  {
   "cell_type": "code",
   "execution_count": 1,
   "id": "c25c3c79-d153-42c6-a75e-1761ec040b80",
   "metadata": {},
   "outputs": [],
   "source": [
    "import numpy as np\n",
    "import pandas as pd\n",
    "import matplotlib.pyplot as plt\n",
    "import scipy.stats as stats\n",
    "import seaborn as sns\n",
    "plt.style.use('ggplot')\n",
    "\n",
    "plot_params = dict(\n",
    "    color = '0.75',\n",
    "    markeredgecolor=\"0.25\",\n",
    "    markerfacecolor=\"0.25\"\n",
    ")"
   ]
  },
  {
   "cell_type": "markdown",
   "id": "b07ec629-7969-4f0d-a359-f441dd996c5f",
   "metadata": {},
   "source": [
    "### Построение линейного уравнения парной регрессии"
   ]
  },
  {
   "cell_type": "code",
   "execution_count": 5,
   "id": "8426af18-911d-44f8-aa0e-7b6be407f4b1",
   "metadata": {},
   "outputs": [],
   "source": [
    "df = pd.DataFrame({'Прожиточный минимум': [79, 91, 77, 87, 84, 76, 84, 94, 79, 98, 81, 115], \n",
    "                   'Среднедневная З.П.': [134,154,128,138,133,144,160,149,125,163,120,162]})"
   ]
  },
  {
   "cell_type": "code",
   "execution_count": 23,
   "id": "91a0ecd6-b54e-4dd5-9b4f-7dcc1b7ddb46",
   "metadata": {},
   "outputs": [
    {
     "data": {
      "text/plain": [
       "PearsonRResult(statistic=0.708928585486849, pvalue=0.009842225933786732)"
      ]
     },
     "execution_count": 23,
     "metadata": {},
     "output_type": "execute_result"
    }
   ],
   "source": [
    "from scipy.stats import pearsonr\n",
    "pearsonr(df['Прожиточный минимум'], df['Среднедневная З.П.'])"
   ]
  },
  {
   "cell_type": "code",
   "execution_count": 26,
   "id": "29727741-6ebe-4df6-bb7f-03a940bea5d4",
   "metadata": {},
   "outputs": [
    {
     "name": "stdout",
     "output_type": "stream",
     "text": [
      "Уравнение регрессии: y = 0.95x + 59.38\n"
     ]
    }
   ],
   "source": [
    "X = df['Прожиточный минимум']\n",
    "y = df['Среднедневная З.П.']\n",
    "n = df.shape[0]\n",
    "\n",
    "result = stats.linregress(X, y)\n",
    "\n",
    "b0 = result.intercept\n",
    "b1 = result.slope\n",
    "y_pred = b0 + b1*X\n",
    "print(\"Уравнение регрессии: y = {:.2f}x + {:.2f}\".format(b1, b0))"
   ]
  },
  {
   "cell_type": "markdown",
   "id": "a7919468-ed10-4f0c-b648-2df00146f0b8",
   "metadata": {},
   "source": [
    "### Коэффициент парной корреляции, коэффициент детерминации и средняя ошибка аппроксимации"
   ]
  },
  {
   "cell_type": "code",
   "execution_count": 27,
   "id": "de468f8a-5d16-4925-aff7-cc93d8bbc443",
   "metadata": {},
   "outputs": [
    {
     "name": "stdout",
     "output_type": "stream",
     "text": [
      "Уравнение регрессии: y = 0.95x + 59.38\n",
      "Коэффициент детерминации: 0.5025797393203841 \n",
      "Коэффициент парной корреляции: 0.7089285854868487 \n",
      "Средняя ошибка аппроксимации: 5.927933469453759\n"
     ]
    }
   ],
   "source": [
    "r_coeff = 1 - sum((y - y_pred)**2)/ sum((y - y.mean())**2) # Коэффициент детерминации линейной регрессии\n",
    "r_corr = np.sqrt(r_coeff)  # Коэффициент парной корреляции \n",
    "mean_approximation_error = np.mean(np.abs(y - y_pred)/ y) * 100 # Средняя ошибка аппроксимации\n",
    "print(\"Уравнение регрессии: y = {:.2f}x + {:.2f}\".format(b1, b0))\n",
    "print(f'Коэффициент детерминации: {r_coeff}',\n",
    "      f'\\nКоэффициент парной корреляции: {r_corr}',\n",
    "      f'\\nСредняя ошибка аппроксимации: {mean_approximation_error}')"
   ]
  },
  {
   "cell_type": "markdown",
   "id": "89a844d8-859c-41b3-85f2-652f737ccd09",
   "metadata": {},
   "source": [
    "### F-критерий Фишера оценки значимости линейной регрессии на уровне значимости alpha = 0.05 "
   ]
  },
  {
   "cell_type": "code",
   "execution_count": 20,
   "id": "8606acea-d7ea-4e65-ab64-a57256ecd6ba",
   "metadata": {},
   "outputs": [
    {
     "name": "stdout",
     "output_type": "stream",
     "text": [
      "F-статистика: 10.103724738387596 > 4.9646027437307145\n",
      "Уравнение линейной регрессии является статистически значимым\n"
     ]
    }
   ],
   "source": [
    "alpha = 0.05\n",
    "F_stat = r_coeff / (1-r_coeff) * ((n-2)/1)\n",
    "F_critical = stats.f.ppf(1 - alpha, 1, n-2)\n",
    "if F_stat > F_critical:\n",
    "    print(f'F-статистика: {F_stat} > {F_critical}')\n",
    "    print('Уравнение линейной регрессии является статистически значимым')\n",
    "else:\n",
    "    print(f'F-статистика: {F_stat} < {F_critical}')\n",
    "    print('Уравнение линейной регрессии не является статистически значимым')"
   ]
  },
  {
   "cell_type": "markdown",
   "id": "fb46e6b0-f3fb-4721-a891-8acd66097d59",
   "metadata": {},
   "source": [
    "### t-критерий Стьюдента на уровне значимости alpha = 0.05 для параметров парной линейной регрессии"
   ]
  },
  {
   "attachments": {
    "a021206e-1d46-4a05-8b7d-0753cedf3678.png": {
     "image/png": "[encoded data removed]"
    }
   },
   "cell_type": "markdown",
   "id": "01f1a018-b20e-47b5-a327-350447d38585",
   "metadata": {},
   "source": [
    "![image.png](attachment:a021206e-1d46-4a05-8b7d-0753cedf3678.png)"
   ]
  },
  {
   "attachments": {
    "432b111f-aba0-47f5-aab4-ae9a6ef972a8.png": {
     "image/png": "[encoded data removed]"
    }
   },
   "cell_type": "markdown",
   "id": "513f64b6-f568-46cc-b179-54e26dde913a",
   "metadata": {},
   "source": [
    "![image.png](attachment:432b111f-aba0-47f5-aab4-ae9a6ef972a8.png)"
   ]
  },
  {
   "cell_type": "code",
   "execution_count": 57,
   "id": "fa4eb223-6452-4162-b161-650b7cd5da15",
   "metadata": {},
   "outputs": [
    {
     "name": "stdout",
     "output_type": "stream",
     "text": [
      "Cлучайная ошибка коэфф. наклона:  0.3002977616480973\n",
      "Cлучайная ошибка свободного члена:  26.347456596886726\n"
     ]
    }
   ],
   "source": [
    "st_error_b1 = np.sqrt(sum((y - y_pred)**2) / ((n - 2)  * sum((X - X.mean())**2)))\n",
    "st_error_b0 = np.sqrt((sum((y - y_pred)**2)*sum(X**2)) / ((n - 2) * n * sum((X - X.mean())**2)))\n",
    "\n",
    "t_critical = stats.t.ppf(1 - alpha, n - 2)\n",
    "print('Cлучайная ошибка коэфф. наклона: ', st_error_b1)\n",
    "print('Cлучайная ошибка свободного члена: ', st_error_b0)"
   ]
  },
  {
   "cell_type": "code",
   "execution_count": 60,
   "id": "af4b4b2b-b1a2-450d-8b88-de51aaed5007",
   "metadata": {},
   "outputs": [
    {
     "name": "stdout",
     "output_type": "stream",
     "text": [
      "t-статистика для коэффициента наклона b1: 3.178635672483968 > 1.8124611228107335\n",
      "Коэффициент наклона является статистически значимым\n"
     ]
    }
   ],
   "source": [
    "t_stat_b1 = b1 / st_error_b1\n",
    "if abs(t_stat_b1) > t_critical:\n",
    "    print(f't-статистика для коэффициента наклона b1: {t_stat_b1} > {t_critical}') \n",
    "    print('Коэффициент наклона является статистически значимым')\n",
    "else:\n",
    "    print(f't-статистика для коэффициента наклона b1: {t_stat_b1} <= {t_critical}') \n",
    "    print('Коэффициент наклона не является статистически значимым')"
   ]
  },
  {
   "cell_type": "code",
   "execution_count": 61,
   "id": "6f7458f0-5438-4215-a6a2-5cac8b1130f7",
   "metadata": {},
   "outputs": [
    {
     "name": "stdout",
     "output_type": "stream",
     "text": [
      "t-статистика для свободного члена b0: 2.2535655603315545 > 1.8124611228107335\n",
      "Свободный член является статистически значимым\n"
     ]
    }
   ],
   "source": [
    "t_stat_b0 = b0 / st_error_b0\n",
    "\n",
    "if abs(t_stat_b0) > t_critical:\n",
    "    print(f't-статистика для свободного члена b0: {t_stat_b0} > {t_critical}') \n",
    "    print('Свободный член является статистически значимым')\n",
    "else:\n",
    "    print(f't-статистика для коэффициента наклона b1: {t_stat_b0} <= {t_critical}') \n",
    "    print('Свободный член не является статистически значимым')"
   ]
  },
  {
   "cell_type": "markdown",
   "id": "f15115df-4daa-419e-8e1e-1302bf1428f1",
   "metadata": {},
   "source": [
    "### Прогноз заработной платы при прогнозном значении прожиточного минимума, состaвляющем 107% от среднего уровня"
   ]
  },
  {
   "cell_type": "code",
   "execution_count": 62,
   "id": "60817944-5237-460f-9a88-5f26c3035561",
   "metadata": {},
   "outputs": [
    {
     "name": "stdout",
     "output_type": "stream",
     "text": [
      "Прогноз заработной платы: 148.3186995447648\n"
     ]
    }
   ],
   "source": [
    "X_forecast = 1.07 * np.mean(X)\n",
    "y_forecast = b0 + b1*X_forecast\n",
    "print(f'Прогноз заработной платы: {y_forecast}')"
   ]
  },
  {
   "cell_type": "markdown",
   "id": "0e4703ea-a4a7-4397-b11b-a721798ac1b3",
   "metadata": {},
   "source": [
    "### Ошибка прогноза и его доверительный интервал"
   ]
  },
  {
   "cell_type": "code",
   "execution_count": 63,
   "id": "80b3fc92-0ec9-4056-9559-7bc3ec2cae44",
   "metadata": {},
   "outputs": [
    {
     "data": {
      "text/plain": [
       "11.594389230699822"
      ]
     },
     "execution_count": 63,
     "metadata": {},
     "output_type": "execute_result"
    }
   ],
   "source": [
    "forecast_error = np.sqrt(sum((y - y_pred)**2) / (n - 2)) * \\\n",
    "np.sqrt(1 + 1/n + (X_forecast - X.mean())**2 / ((n-1) * sum((X - X.mean())**2)))\n",
    "forecast_error "
   ]
  },
  {
   "cell_type": "code",
   "execution_count": 69,
   "id": "4fb1f981-e555-4efd-9dff-1d86247a4a70",
   "metadata": {},
   "outputs": [
    {
     "name": "stdout",
     "output_type": "stream",
     "text": [
      "Доверительный интервал для прогноза заработнрой платы: [122.48479044 174.15260865]\n"
     ]
    }
   ],
   "source": [
    "t_critical = stats.t.ppf(1 - alpha/2, df = n - 2)\n",
    "conf_interval = np.array([y_forecast - t_critical * forecast_error,\n",
    "                          y_forecast + t_critical * forecast_error])\n",
    "print(f'Доверительный интервал для прогноза заработнрой платы: {conf_interval}')"
   ]
  },
  {
   "cell_type": "code",
   "execution_count": 18,
   "id": "f7380280-507c-494b-b645-91fc5e486f11",
   "metadata": {},
   "outputs": [
    {
     "data": {
      "image/png": "[encoded data removed]",
      "text/plain": [
       "<Figure size 1200x600 with 1 Axes>"
      ]
     },
     "metadata": {},
     "output_type": "display_data"
    }
   ],
   "source": [
    "# линейная регрессия\n",
    "fig, ax = plt.subplots(figsize= (12, 6))\n",
    "ax = sns.regplot(x = 'Прожиточный минимум', y = 'Среднедневная З.П.', data = df, ci = False, scatter_kws=dict(color='0.25'))"
   ]
  }
 ],
 "metadata": {
  "kernelspec": {
   "display_name": "Python 3 (ipykernel)",
   "language": "python",
   "name": "python3"
  },
  "language_info": {
   "codemirror_mode": {
    "name": "ipython",
    "version": 3
   },
   "file_extension": ".py",
   "mimetype": "text/x-python",
   "name": "python",
   "nbconvert_exporter": "python",
   "pygments_lexer": "ipython3",
   "version": "3.12.2"
  }
 },
 "nbformat": 4,
 "nbformat_minor": 5
}
